{
 "cells": [
  {
   "cell_type": "code",
   "execution_count": 1,
   "metadata": {},
   "outputs": [],
   "source": [
    "from scholars import *\n",
    "X = np.genfromtxt('data/X_train.txt', delimiter=',')\n",
    "Y = np.genfromtxt('data/Y_train.txt', delimiter=',')\n",
    "X_test = np.genfromtxt('data/X_test.txt', delimiter=',')\n",
    "X, Y = ml.shuffleData(X, Y)\n",
    "Xtr,Xva,Ytr,Yva = ml.splitData(X,Y,0.75) \n",
    "np.random.seed(0)"
   ]
  },
  {
   "cell_type": "code",
   "execution_count": 150,
   "metadata": {},
   "outputs": [
    {
     "name": "stdout",
     "output_type": "stream",
     "text": [
      "('error percentage: ', 0.35129310344827586)\n",
      "('error percentage: ', 0.33997844827586204)\n",
      "('error percentage: ', 0.33405172413793105)\n",
      "('error percentage: ', 0.33782327586206895)\n",
      "('error percentage: ', 0.3432112068965517)\n"
     ]
    },
    {
     "data": {
      "image/png": "[encoded data removed]",
      "text/plain": [
       "<Figure size 432x288 with 1 Axes>"
      ]
     },
     "metadata": {
      "needs_background": "light"
     },
     "output_type": "display_data"
    }
   ],
   "source": [
    "#GRADIENT BOOSTING CLASSIFIER FROM SKLEARN.ENSEMBLE \n",
    "#n_estimators = 100\n",
    "\n",
    "\n",
    "n_estimators = [10,50, 100, 150, 200]\n",
    "errList = list()\n",
    "for n in n_estimators:\n",
    "    gradientBoostingClassifier = GradientBoostingClassifier(n_estimators=n)\n",
    "    gradientBoostingClassifier.fit(Xtr, Ytr)\n",
    "    \n",
    "    prediction = gradientBoostingClassifier.predict_proba(Xva)[:, 1]\n",
    "    \n",
    "    errCount = 0\n",
    "    for pred, va in list(zip(prediction, Yva)):\n",
    "        if(not ((pred<0.5 and va<0.5) or (pred>0.5 and va>0.5))):\n",
    "            errCount += 1\n",
    "    errPercentage = float(errCount)/len(prediction)\n",
    "    errList.append(errPercentage)\n",
    "    #print(\"Prediction: \", prediction)\n",
    "    print(\"error percentage: \", errPercentage)\n",
    "plt.plot(n_estimators, errList)\n",
    "plt.show()"
   ]
  },
  {
   "cell_type": "code",
   "execution_count": 147,
   "metadata": {},
   "outputs": [
    {
     "name": "stdout",
     "output_type": "stream",
     "text": [
      "('error percentage: ', 0.3275862068965517)\n",
      "('error percentage: ', 0.33566810344827586)\n",
      "('error percentage: ', 0.33459051724137934)\n",
      "('error percentage: ', 0.33459051724137934)\n",
      "('error percentage: ', 0.3442887931034483)\n",
      "('error percentage: ', 0.33351293103448276)\n"
     ]
    },
    {
     "data": {
      "image/png": "[encoded data removed]",
      "text/plain": [
       "<Figure size 432x288 with 1 Axes>"
      ]
     },
     "metadata": {
      "needs_background": "light"
     },
     "output_type": "display_data"
    }
   ],
   "source": [
    "subsamples = [0.5,0.6,0.7,0.8,0.9,1]\n",
    "errList = list()\n",
    "for s in subsamples:\n",
    "    gradientBoostingClassifier = GradientBoostingClassifier(n_estimators=100, subsample=s)\n",
    "    gradientBoostingClassifier.fit(Xtr, Ytr)\n",
    "    \n",
    "    prediction = gradientBoostingClassifier.predict_proba(Xva)[:, 1]\n",
    "    \n",
    "    errCount = 0\n",
    "    for pred, va in list(zip(prediction, Yva)):\n",
    "        if(not ((pred<0.5 and va<0.5) or (pred>0.5 and va>0.5))):\n",
    "            errCount += 1\n",
    "    errPercentage = float(errCount)/len(prediction)\n",
    "    errList.append(errPercentage)\n",
    "    #print(\"Prediction: \", prediction)\n",
    "    print(\"error percentage: \", errPercentage)\n",
    "plt.plot(subsamples, errList)\n",
    "plt.show()\n"
   ]
  },
  {
   "cell_type": "code",
   "execution_count": null,
   "metadata": {},
   "outputs": [],
   "source": []
  },
  {
   "cell_type": "code",
   "execution_count": null,
   "metadata": {},
   "outputs": [],
   "source": []
  },
  {
   "cell_type": "code",
   "execution_count": null,
   "metadata": {},
   "outputs": [],
   "source": []
  },
  {
   "cell_type": "code",
   "execution_count": null,
   "metadata": {},
   "outputs": [],
   "source": []
  },
  {
   "cell_type": "code",
   "execution_count": null,
   "metadata": {},
   "outputs": [],
   "source": []
  },
  {
   "cell_type": "code",
   "execution_count": null,
   "metadata": {},
   "outputs": [],
   "source": []
  },
  {
   "cell_type": "code",
   "execution_count": null,
   "metadata": {},
   "outputs": [],
   "source": []
  },
  {
   "cell_type": "code",
   "execution_count": 2,
   "metadata": {},
   "outputs": [],
   "source": [
    "def stackPredictions(predictions):\n",
    "    num_data = len(predictions[0])\n",
    "    finalPrediction = [0]*num_data\n",
    "    for j in range(num_data):\n",
    "        finalPrediction[j] = np.mean(np.array(predictions)[:, j])\n",
    "    return finalPrediction\n",
    "\n",
    "\n",
    "def convertToFinalPredictions(pred):\n",
    "    final_pred = []\n",
    "    for i in pred:\n",
    "        if i>0.5:\n",
    "            final_pred.append(1)\n",
    "        else:\n",
    "            final_pred.append(0)\n",
    "\n",
    "    return final_pred"
   ]
  },
  {
   "cell_type": "code",
   "execution_count": 3,
   "metadata": {},
   "outputs": [
    {
     "name": "stderr",
     "output_type": "stream",
     "text": [
      "/opt/anaconda2/lib/python2.7/site-packages/sklearn/linear_model/logistic.py:433: FutureWarning: Default solver will be changed to 'lbfgs' in 0.22. Specify a solver to silence this warning.\n",
      "  FutureWarning)\n"
     ]
    }
   ],
   "source": [
    "#TRAINS LEARNER\n",
    "gradientBoostTR = GradientBoost(Xtr,Ytr)\n",
    "logistic41featuresTR = LogisticRegression().fit(Xtr[:,:41],Ytr)\n",
    "adaBoosTR = AdaBoost(Xtr,Ytr, learning_rate=2)\n",
    "gradientBoost2TR = GradientBoost2(Xtr,Ytr)\n",
    "randomForestTR = RandomForest(Xtr,Ytr,nFeatures = 50, maxDepth = 15, minLeaf = 4, number_of_learner=25)\n",
    "randomForest2TR = RandomForest2(Xtr,Ytr)\n",
    "knn28categoricalTR = ml.knn.knnClassify(Xtr[:,41:69],Ytr)\n",
    "gradient12Boost2TR = GradientBoost2(Xtr[:,:69], Ytr)\n",
    "gradient23Boost2TR = GradientBoost2(Xtr[:,41:], Ytr)\n",
    "newXtr = np.hstack((Xtr[:,:41],Xtr[:,69:]))    \n",
    "gradient13Boost2TR = GradientBoost2(newXtr, Ytr)\n",
    "\n",
    "gradientBoost = GradientBoost(X,Y)\n",
    "logistic41features = LogisticRegression().fit(X[:,:41],Y)\n",
    "knn28categorical = ml.knn.knnClassify(X[:,41:69],Y)\n",
    "adaBoost = AdaBoost(X,Y, learning_rate=2)\n",
    "gradientBoost2 = GradientBoost2(X,Y)\n",
    "randomForest = RandomForest(X,Y,nFeatures = 50, maxDepth = 15, minLeaf = 4, number_of_learner=25)\n",
    "randomForest2 = RandomForest2(X,Y)\n",
    "gradient12Boost2 = GradientBoost2(X[:,:69], Y)\n",
    "gradient23Boost2 = GradientBoost2(X[:,41:], Y)\n",
    "newX = np.hstack((X[:,:41],X[:,69:]))    \n",
    "gradient13Boost2 = GradientBoost2(newX, Y)\n"
   ]
  },
  {
   "cell_type": "code",
   "execution_count": 4,
   "metadata": {},
   "outputs": [],
   "source": [
    "#RUNS PREDICTION\n",
    "gradientPredictionTR = gradientBoostTR.predict(Xva)[:, 1]\n",
    "adaPredictionTR = adaBoosTR.predict(Xva)[:, 1]\n",
    "gradientPrediction2TR = gradientBoost2TR.predict(Xva)\n",
    "forestPredictionTR = randomForestTR.predict(Xva)\n",
    "forest2PredictionTR = randomForest2TR.predict(Xva)\n",
    "logistic41PredictionTR = logistic41featuresTR.predict(Xva[:,:41])\n",
    "knn28PredictionTR = knn28categoricalTR.predict(Xva[:,41:69])\n",
    "newXva = np.hstack((Xva[:,:41],Xva[:,69:]))\n",
    "gradient13PredictionTR = gradient13Boost2TR.predict(newXva)  \n",
    "gradient23PredictionTR = gradient23Boost2TR.predict(Xva[:,41:])\n",
    "gradient12PredictionTR = gradient12Boost2TR.predict(Xva[:,:69])\n",
    "\n",
    "gradientPrediction = gradientBoost.predict(X_test)[:, 1]\n",
    "adaPrediction = adaBoost.predict(X_test)[:, 1]\n",
    "gradientPrediction2 = gradientBoost2.predict(X_test)\n",
    "forestPrediction = randomForest.predict(X_test)\n",
    "forest2Prediction = randomForest2.predict(X_test)\n",
    "logistic41Prediction = logistic41features.predict(X_test[:,:41])\n",
    "knn28Prediction = knn28categorical.predict(X_test[:,41:69])\n",
    "newXtest = np.hstack((X_test[:,:41],X_test[:,69:]))\n",
    "gradient13Prediction = gradient13Boost2.predict(newXtest)  \n",
    "gradient23Prediction = gradient23Boost2.predict(X_test[:,41:])\n",
    "gradient12Prediction = gradient12Boost2.predict(X_test[:,:69])"
   ]
  },
  {
   "cell_type": "code",
   "execution_count": 135,
   "metadata": {},
   "outputs": [
    {
     "name": "stdout",
     "output_type": "stream",
     "text": [
      "('forest2Prediction ERROR: ', 0.33028017241379315)\n",
      "('forestPrediction ERROR: ', 0.33728448275862066)\n",
      "('gradientPrediction2 ERROR: ', 0.3351293103448276)\n",
      "('gradientPrediction ERROR: ', 0.33405172413793105)\n",
      "('adaPrediction ERROR: ', 0.4137931034482759)\n",
      "('LOGISTIC ERROR: ', 0.4445043103448276)\n",
      "('knn28PredictionTR ERROR: ', 0.4876077586206896)\n",
      "('gradient13PredictionTR ERROR: ', 0.3523706896551724)\n",
      "('gradient12PredictionTR ERROR: ', 0.3475215517241379)\n",
      "('gradient23PredictionTR ERROR: ', 0.4369612068965517)\n"
     ]
    }
   ],
   "source": [
    "\n",
    "forest2PredictionTR = convertToFinalPredictions(forest2PredictionTR)\n",
    "print(\"forest2Prediction ERROR: \",1-sum(forest2PredictionTR==Yva)/float(len(Yva)))\n",
    "\n",
    "forestPredictionTR = convertToFinalPredictions(forestPredictionTR)\n",
    "print(\"forestPrediction ERROR: \",1-sum(forestPredictionTR==Yva)/float(len(Yva)))\n",
    "\n",
    "gradientPrediction2TR = convertToFinalPredictions(gradientPrediction2TR)\n",
    "print(\"gradientPrediction2 ERROR: \",1-sum(gradientPrediction2TR==Yva)/float(len(Yva)))\n",
    "\n",
    "gradientPredictionTR = convertToFinalPredictions(gradientPredictionTR)\n",
    "print(\"gradientPrediction ERROR: \",1-sum(gradientPredictionTR==Yva)/float(len(Yva)))\n",
    "\n",
    "adaPredictionTR = convertToFinalPredictions(adaPredictionTR)\n",
    "print(\"adaPrediction ERROR: \",1-sum(adaPredictionTR==Yva)/float(len(Yva)))\n",
    "\n",
    "logistic41PredictionTR = convertToFinalPredictions(logistic41PredictionTR)\n",
    "print(\"LOGISTIC ERROR: \", 1-sum(logistic41PredictionTR==Yva)/float(len(Yva)))\n",
    "\n",
    "knn28PredictionTR = convertToFinalPredictions(knn28PredictionTR)\n",
    "print(\"knn28PredictionTR ERROR: \", 1-sum(knn28PredictionTR==Yva)/float(len(Yva)))\n",
    "\n",
    "\n",
    "gradient13PredictionTR = convertToFinalPredictions(gradient13PredictionTR)\n",
    "print(\"gradient13PredictionTR ERROR: \",1-sum(gradient13PredictionTR==Yva)/float(len(Yva)))\n",
    "\n",
    "gradient12PredictionTR = convertToFinalPredictions(gradient12PredictionTR)\n",
    "print(\"gradient12PredictionTR ERROR: \",1-sum(gradient12PredictionTR==Yva)/float(len(Yva)))\n",
    "\n",
    "gradient23PredictionTR = convertToFinalPredictions(gradient23PredictionTR)\n",
    "print(\"gradient23PredictionTR ERROR: \",1-sum(gradient23PredictionTR==Yva)/float(len(Yva)))\n"
   ]
  },
  {
   "cell_type": "code",
   "execution_count": 153,
   "metadata": {},
   "outputs": [],
   "source": [
    "#finalPrediction = stackPredictions([adaPrediction, forestPrediction, gradientPrediction, forest2Prediction, gradientPrediction2])\n",
    "\n",
    "#BEST\n",
    "finalPrediction = 0.15*np.array(adaPrediction)+0.1*np.array(forestPrediction)+ 0.3*np.array(forest2Prediction) + 0.15*np.array(gradientPrediction) + 0.3*np.array(gradientPrediction2)\n",
    "#BEST\n",
    "\n",
    "#finalPrediction = 0.3*np.array(adaPrediction)+0*np.array(forestPrediction)+ 0.1*np.array(forest2Prediction) + 0.1*np.array(gradientPrediction) + 0.5*np.array(gradientPrediction2)\n",
    "#finalPrediction = 0.1*np.array(adaPrediction) + 0.05*np.array(forestPrediction)+ 0.2*np.array(forest2Prediction) + 0.2*np.array(gradientPrediction) + 0.35*np.array(gradientPrediction2) + 0.1*np.array(logistic41Prediction)\n",
    "\n",
    "#finalPrediction = 0.1*np.array(adaPrediction) + 0.05*np.array(forestPrediction)+ 0.2*np.array(forest2Prediction) + 0.2*np.array(gradientPrediction) + 0.42*np.array(gradientPrediction2) + 0.02*np.array(logistic41Prediction) + 0.01*np.array(knn28Prediction)\n",
    "\n",
    "finalPredictionBESTtr = 0.15*np.array(adaPredictionTR)+0.1*np.array(forestPredictionTR)+ 0.3*np.array(forest2PredictionTR) + 0.15*np.array(gradientPredictionTR) + 0.3*np.array(gradientPrediction2TR)\n",
    "#finalPredictionTR = 0.15*np.array(adaPredictionTR)+0.1*np.array(forestPredictionTR)+ 0.3*np.array(forest2PredictionTR) + 0.2*np.array(gradientPredictionTR) + 0.25*np.array(gradientPrediction2TR)\n",
    "#finalPrediction = 0.05*np.array(adaPrediction)+0.1*np.array(forestPrediction)+ 0.15*np.array(forest2Prediction) + 0.15*np.array(gradientPrediction) + 0.25*np.array(gradientPrediction2) + 0.125*np.array(gradient13Prediction) + 0.125*np.array(gradient12Prediction)+ 0.05*np.array(gradient23Prediction)\n"
   ]
  },
  {
   "cell_type": "code",
   "execution_count": 7,
   "metadata": {
    "scrolled": true
   },
   "outputs": [
    {
     "data": {
      "image/png": "[encoded data removed]",
      "text/plain": [
       "<Figure size 432x288 with 1 Axes>"
      ]
     },
     "metadata": {
      "needs_background": "light"
     },
     "output_type": "display_data"
    }
   ],
   "source": [
    "def costFunction(prediction):\n",
    "    errCount = 0\n",
    "    ndata=len(prediction)\n",
    "    for i in range(ndata):\n",
    "        if(not ((prediction[i]<0.5 and Yva[i]<0.5) or (prediction[i]>0.5 and Yva[i]>0.5))):\n",
    "            errCount += 1\n",
    "    print(errCount/float(ndata))\n",
    "\n",
    "theta = [0.1, 0.1, 0.1, 0.1, 0.1,0.1,0.1,0.1,0.1,0.1]\n",
    "X = [forest2PredictionTR, forestPredictionTR, gradientPrediction2TR, gradientPredictionTR, adaPredictionTR, logistic41PredictionTR, knn28PredictionTR, gradient13PredictionTR, gradient12PredictionTR, gradient23PredictionTR] \n",
    "\n",
    "colormap = np.array(['b','g'])\n",
    "plt.scatter(gradientPrediction2TR, gradientPredictionTR,c =colormap[Ytr.astype(\"int64\")])\n",
    "plt.show()"
   ]
  },
  {
   "cell_type": "code",
   "execution_count": 8,
   "metadata": {},
   "outputs": [
    {
     "data": {
      "text/plain": [
       "[]"
      ]
     },
     "execution_count": 8,
     "metadata": {},
     "output_type": "execute_result"
    },
    {
     "data": {
      "image/png": "[encoded data removed]",
      "text/plain": [
       "<Figure size 432x288 with 1 Axes>"
      ]
     },
     "metadata": {
      "needs_background": "light"
     },
     "output_type": "display_data"
    }
   ],
   "source": [
    "plt.plot()"
   ]
  },
  {
   "cell_type": "code",
   "execution_count": 9,
   "metadata": {},
   "outputs": [],
   "source": [
    "def printFinalVaErr(finalPrediction):\n",
    "    errCount = 0\n",
    "    ndata=len(finalPrediction)\n",
    "    for i in range(ndata):\n",
    "        if(not ((finalPrediction[i]<0.5 and Yva[i]<0.5) or (finalPrediction[i]>0.5 and Yva[i]>0.5))):\n",
    "            errCount += 1\n",
    "    print(errCount/float(ndata))"
   ]
  },
  {
   "cell_type": "code",
   "execution_count": 155,
   "metadata": {},
   "outputs": [
    {
     "name": "stdout",
     "output_type": "stream",
     "text": [
      "0.327586206897\n"
     ]
    }
   ],
   "source": [
    "printFinalVaErr(finalPredictionBESTtr)"
   ]
  },
  {
   "cell_type": "code",
   "execution_count": 156,
   "metadata": {},
   "outputs": [
    {
     "name": "stdout",
     "output_type": "stream",
     "text": [
      "0.331357758621\n"
     ]
    }
   ],
   "source": [
    "printFinalVaErr(finalPredictionTR)"
   ]
  },
  {
   "cell_type": "code",
   "execution_count": 134,
   "metadata": {},
   "outputs": [],
   "source": [
    "Y_test = np.vstack((np.arange(X_test.shape[0]), finalPrediction)).T\n",
    "# Output a file with two columns, a row ID and a confidence in class 1:\n",
    "np.savetxt('FinalPredictions.txt', Y_test, '%d, %.2f',header='ID,Predicted', delimiter=',')"
   ]
  },
  {
   "cell_type": "code",
   "execution_count": 103,
   "metadata": {},
   "outputs": [],
   "source": [
    "#stacking outputs\n",
    "outputs = [forest2PredictionTR, forestPredictionTR, gradientPrediction2TR, gradientPredictionTR, adaPredictionTR, logistic41PredictionTR, knn28PredictionTR, gradient13PredictionTR, gradient12PredictionTR, gradient23PredictionTR]\n",
    "#outputs = [forest2PredictionTR, forestPredictionTR, gradientPrediction2TR, gradientPredictionTR, adaPredictionTR]\n",
    "\n",
    "new_outputs = []\n",
    "for i in outputs:\n",
    "    new_outputs.append([[j] for j in i])\n",
    "xMetaTR = np.hstack((np.array(new_outputs)))\n",
    "\n",
    "\n",
    "outputs = [forest2Prediction, forestPrediction, gradientPrediction2, gradientPrediction, adaPrediction, logistic41Prediction, knn28Prediction, gradient13Prediction, gradient12Prediction, gradient23Prediction]\n",
    "new_outputs = []\n",
    "for i in outputs:\n",
    "    new_outputs.append([[j] for j in i])\n",
    "xMeta = np.hstack((np.array(new_outputs)))\n",
    "\n",
    "\n"
   ]
  },
  {
   "cell_type": "code",
   "execution_count": 104,
   "metadata": {},
   "outputs": [],
   "source": [
    "stacked_gradient2 = GradientBoost2(xMetaTR, Yva)\n",
    "stacked_gradient = GradientBoost(xMetaTR, Yva)\n",
    "stacked_ada = AdaBoost(xMetaTR, Yva)\n"
   ]
  },
  {
   "cell_type": "code",
   "execution_count": 105,
   "metadata": {},
   "outputs": [],
   "source": [
    "stacked_forest2 = RandomForest2(xMetaTR, Yva)\n",
    "stacked_forest = RandomForest(xMetaTR, Yva, nFeatures = 50, maxDepth = 15, minLeaf = 4, number_of_learner=50)"
   ]
  },
  {
   "cell_type": "code",
   "execution_count": 106,
   "metadata": {},
   "outputs": [],
   "source": [
    "stacked_gradient_predict = stacked_gradient.predict(xMeta)[:,1]\n",
    "stacked_gradient2_predict = stacked_gradient2.predict(xMeta)\n",
    "#stacked_ada_predict = stacked_ada.predict(xMeta)[:, 1]\n",
    "stacked_forest2_predict = stacked_forest2.predict(xMeta)\n",
    "stacked_forest_predict = stacked_forest.predict(xMeta)\n"
   ]
  },
  {
   "cell_type": "code",
   "execution_count": 107,
   "metadata": {},
   "outputs": [],
   "source": [
    "#finalPrediction = 0.15*np.array(stacked_ada_predict)+0.1*np.array(stacked_forest_predict)+ 0.3*np.array(stacked_forest2_predict) + 0.15*np.array(stacked_gradient_predict) + 0.3*np.array(stacked_gradient2_predict)\n",
    "\n",
    "#finalPrediction = 0.25*np.array(stacked_forest_predict)+ 0.25*np.array(stacked_forest2_predict) + 0.25*np.array(stacked_gradient_predict) + 0.25*np.array(stacked_gradient2_predict)\n",
    "\n",
    "\n"
   ]
  },
  {
   "cell_type": "code",
   "execution_count": 108,
   "metadata": {},
   "outputs": [],
   "source": [
    "final1 = 0.15*np.array(stacked_ada_predict)+0.1*np.array(stacked_forest_predict)+ 0.3*np.array(stacked_forest2_predict) + 0.15*np.array(stacked_gradient_predict) + 0.3*np.array(stacked_gradient2_predict)\n",
    "final2 = 0.15*np.array(adaPrediction)+0.1*np.array(forestPrediction)+ 0.3*np.array(forest2Prediction) + 0.15*np.array(gradientPrediction) + 0.3*np.array(gradientPrediction2)\n",
    "\n",
    "\n"
   ]
  },
  {
   "cell_type": "code",
   "execution_count": 112,
   "metadata": {},
   "outputs": [],
   "source": [
    "finalPrediction = 0.4*final1 + 0.6*final2"
   ]
  },
  {
   "cell_type": "code",
   "execution_count": 121,
   "metadata": {},
   "outputs": [
    {
     "name": "stdout",
     "output_type": "stream",
     "text": [
      "[0.26278261 0.14219969 0.4843043  ... 0.39529332 0.92361708 0.44434865]\n",
      "[0.34967738 0.23034331 0.50558605 ... 0.44670523 0.87111024 0.47130683]\n"
     ]
    }
   ],
   "source": [
    "print(finalPrediction)\n",
    "print(final2)\n",
    "\n",
    "\n"
   ]
  },
  {
   "cell_type": "code",
   "execution_count": 116,
   "metadata": {},
   "outputs": [
    {
     "name": "stdout",
     "output_type": "stream",
     "text": [
      "** Stacked AUC:  0.7536256627352602\n"
     ]
    }
   ],
   "source": [
    "Sv = xMetaTR\n",
    "stack = ml.linearC.linearClassify(Sv,Yva, reg=1e-3)\n",
    "print \"** Stacked AUC: \",stack.auc(Sv,Yva)\n",
    "Se = xMeta\n",
    "PeS = stack.predictSoft(Se)\n",
    "\n",
    "\n",
    "\n"
   ]
  },
  {
   "cell_type": "code",
   "execution_count": 117,
   "metadata": {},
   "outputs": [
    {
     "name": "stdout",
     "output_type": "stream",
     "text": [
      "[[0.73721739 0.26278261]\n",
      " [0.85780031 0.14219969]\n",
      " [0.5156957  0.4843043 ]\n",
      " ...\n",
      " [0.60470668 0.39529332]\n",
      " [0.07638292 0.92361708]\n",
      " [0.55565135 0.44434865]]\n"
     ]
    }
   ],
   "source": [
    "print(PeS)"
   ]
  },
  {
   "cell_type": "code",
   "execution_count": 118,
   "metadata": {},
   "outputs": [],
   "source": [
    "finalPrediction = PeS[:, 1]"
   ]
  },
  {
   "cell_type": "code",
   "execution_count": 119,
   "metadata": {},
   "outputs": [
    {
     "name": "stdout",
     "output_type": "stream",
     "text": [
      "[0.26278261 0.14219969 0.4843043  ... 0.39529332 0.92361708 0.44434865]\n"
     ]
    }
   ],
   "source": [
    "print(finalPrediction)"
   ]
  },
  {
   "cell_type": "code",
   "execution_count": 131,
   "metadata": {},
   "outputs": [
    {
     "name": "stdout",
     "output_type": "stream",
     "text": [
      "it 2 : Jsur = 0.984372193282, J01 = 0.492186096641\n",
      "it 4 : Jsur = 0.97395365547, J01 = 0.486976827735\n",
      "it 8 : Jsur = 0.974312915394, J01 = 0.487156457697\n",
      "it 16 : Jsur = 0.989449235176, J01 = 0.494700916113\n",
      "it 32 : Jsur = 1.02521181004, J01 = 0.512663912341\n",
      "it 64 : Jsur = 1.03881669584, J01 = 0.502065744566\n",
      "it 128 : Jsur = 0.998977832241, J01 = 0.494521286151\n",
      "it 256 : Jsur = 0.924654777034, J01 = 0.463804562601\n",
      "it 512 : Jsur = 0.867601811594, J01 = 0.461110113167\n",
      "it 1024 : Jsur = 0.926903330508, J01 = 0.51104724268\n",
      "it 2048 : Jsur = 0.819384900725, J01 = 0.518232441171\n",
      "it 4096 : Jsur = 0.727856413019, J01 = 0.497754625472\n",
      "it 8192 : Jsur = 0.674336053334, J01 = 0.502784264415\n",
      "it 16384 : Jsur = 0.556437741203, J01 = 0.505658343812\n",
      "it 32768 : Jsur = 0.525724394699, J01 = 0.472965690677\n",
      "it 65536 : Jsur = 0.495604704575, J01 = 0.449254535657\n"
     ]
    }
   ],
   "source": [
    "nHidden = 500\n",
    "nnet = ml.nnet.nnetClassify()\n",
    "nnet.init_weights([Xtr.shape[1],nHidden,2],'random',Xtr,Ytr);\n",
    "nnet.train(Xtr,Ytr,stopTol=-1,initStep=1.,stopIter=100000)\n"
   ]
  },
  {
   "cell_type": "code",
   "execution_count": 132,
   "metadata": {},
   "outputs": [
    {
     "data": {
      "text/plain": [
       "0.5621940384313863"
      ]
     },
     "execution_count": 132,
     "metadata": {},
     "output_type": "execute_result"
    }
   ],
   "source": [
    "nnet.auc(Xva, Yva)"
   ]
  },
  {
   "cell_type": "code",
   "execution_count": null,
   "metadata": {},
   "outputs": [],
   "source": []
  }
 ],
 "metadata": {
  "kernelspec": {
   "display_name": "Python 3",
   "language": "python",
   "name": "python3"
  },
  "language_info": {
   "codemirror_mode": {
    "name": "ipython",
    "version": 2
   },
   "file_extension": ".py",
   "mimetype": "text/x-python",
   "name": "python",
   "nbconvert_exporter": "python",
   "pygments_lexer": "ipython2",
   "version": "2.7.16"
  }
 },
 "nbformat": 4,
 "nbformat_minor": 2
}
