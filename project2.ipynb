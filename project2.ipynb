{
 "cells": [
  {
   "cell_type": "code",
   "execution_count": 1,
   "metadata": {},
   "outputs": [],
   "source": [
    "import numpy as np\n",
    "np.random.seed(0)\n",
    "import mltools as ml\n",
    "import matplotlib.pyplot as plt "
   ]
  },
  {
   "cell_type": "code",
   "execution_count": 2,
   "metadata": {},
   "outputs": [],
   "source": [
    "X = np.genfromtxt('data/X_train.txt', delimiter=',')\n",
    "Y = np.genfromtxt('data/Y_train.txt', delimiter=',')\n",
    "X,Y = ml.shuffleData(X,Y)"
   ]
  },
  {
   "cell_type": "code",
   "execution_count": 3,
   "metadata": {},
   "outputs": [],
   "source": [
    "Xtr, Ytr = X[:3710,:], Y[:3710]\n",
    "Xva, Yva = X[3710:,:], Y[3710:]"
   ]
  },
  {
   "cell_type": "code",
   "execution_count": 4,
   "metadata": {},
   "outputs": [],
   "source": [
    "class BaggedTree(ml.base.classifier):\n",
    "    def __init__(self, learners):\n",
    "        \"\"\"Constructs a BaggedTree class with a set of learners. \"\"\"\n",
    "        self.learners = learners\n",
    "    \n",
    "    def predictSoft(self, X):\n",
    "        \"\"\"Predicts the probabilities with each bagged learner and average over the results. \"\"\"\n",
    "        n_bags = len(self.learners)\n",
    "        preds = [self.learners[l].predictSoft(X) for l in range(n_bags)]\n",
    "        return np.mean(preds, axis=0)"
   ]
  },
  {
   "cell_type": "code",
   "execution_count": 12,
   "metadata": {},
   "outputs": [],
   "source": [
    "\n",
    "a = []\n",
    "b = [10,20,40,80]\n",
    "for i in b:\n",
    "    bags = []\n",
    "    for l in range(i):\n",
    "        Xi, Yi = ml.bootstrapData(Xtr, Ytr, Xtr.shape[0])\n",
    "        tree = ml.dtree.treeClassify(Xi, Yi, maxDepth = 20, nFeatures=20)\n",
    "        bags.append(tree)\n",
    "    bt = BaggedTree(bags)\n",
    "    bt.classes = np.unique(Ytr)\n",
    "    a.append(bt)"
   ]
  },
  {
   "cell_type": "code",
   "execution_count": 13,
   "metadata": {},
   "outputs": [
    {
     "name": "stdout",
     "output_type": "stream",
     "text": [
      "0.37462967950444387\n",
      "0.3528144357662268\n",
      "0.34527336385671964\n",
      "0.33638567196337193\n"
     ]
    }
   ],
   "source": [
    "\n",
    "for i in a:\n",
    "    print(i.err(Xva,Yva))"
   ]
  },
  {
   "cell_type": "code",
   "execution_count": 14,
   "metadata": {},
   "outputs": [],
   "source": [
    "bags = []\n",
    "for i in range(80):\n",
    "    Xi, Yi = ml.bootstrapData(X, Y, X.shape[0])\n",
    "    tree = ml.dtree.treeClassify(Xi, Yi, maxDepth = 20, nFeatures=20)\n",
    "    bags.append(tree)\n",
    "bt = BaggedTree(bags)\n",
    "bt.classes = np.unique(Y)"
   ]
  },
  {
   "cell_type": "code",
   "execution_count": 17,
   "metadata": {},
   "outputs": [
    {
     "name": "stdout",
     "output_type": "stream",
     "text": [
      "[0.34262116 0.20234897 0.41517511 ... 0.4291518  0.85459643 0.52882896]\n"
     ]
    }
   ],
   "source": [
    "Xte = np.genfromtxt('data/X_test.txt', delimiter=',')\n",
    "x1 = bt.predictSoft(Xte)[:,1]\n",
    "print(x1)"
   ]
  },
  {
   "cell_type": "code",
   "execution_count": 18,
   "metadata": {},
   "outputs": [],
   "source": [
    "M = X.shape[0]\n",
    "nEns = 100\n",
    "en = [None]*nEns \n",
    "YHat = np.zeros((M,nEns)) \n",
    "def sigma(z): \n",
    "    return np.exp(-z)/(1.+np.exp(-z))\n",
    "f = np.zeros(Y.shape)\n",
    "alpha = 0.5\n",
    "for l in range(nEns): # this is a lot faster than the bagging loop:\n",
    "    dJ = 1.*Y - sigma(f)\n",
    "    en[l] = ml.dtree.treeRegress(X,dJ, maxDepth=3) # train and save learner\n",
    "    f -= alpha*en[l].predict(X) "
   ]
  },
  {
   "cell_type": "code",
   "execution_count": 19,
   "metadata": {},
   "outputs": [],
   "source": [
    "a = np.zeros((Xte.shape[0],39)) \n",
    "for l in range(39):\n",
    "    a[:,l] = -alpha*en[l].predict(Xte)\n",
    "preds = sigma(a.sum(axis=1))"
   ]
  },
  {
   "cell_type": "code",
   "execution_count": 21,
   "metadata": {},
   "outputs": [
    {
     "name": "stdout",
     "output_type": "stream",
     "text": [
      "[0.35828508 0.20386771 0.5047032  ... 0.47998709 0.9209455  0.4204067 ]\n"
     ]
    }
   ],
   "source": [
    "x2 = preds\n",
    "print(x2)"
   ]
  },
  {
   "cell_type": "code",
   "execution_count": 26,
   "metadata": {},
   "outputs": [
    {
     "name": "stdout",
     "output_type": "stream",
     "text": [
      "[0.3551523  0.20356396 0.48679758 ... 0.46982003 0.90767569 0.44209116]\n"
     ]
    }
   ],
   "source": [
    "c = (0.2*x1+0.8*x2)\n",
    "print(c)"
   ]
  },
  {
   "cell_type": "code",
   "execution_count": 27,
   "metadata": {},
   "outputs": [],
   "source": [
    "Yte = np.vstack((np.arange(Xte.shape[0]), c)).T\n",
    "np.savetxt('Y_submit.txt',Yte,'%d, %.2f',header='ID,Predicted',comments='',delimiter=',')"
   ]
  },
  {
   "cell_type": "code",
   "execution_count": null,
   "metadata": {},
   "outputs": [],
   "source": []
  }
 ],
 "metadata": {
  "kernelspec": {
   "display_name": "Python 3",
   "language": "python",
   "name": "python3"
  },
  "language_info": {
   "codemirror_mode": {
    "name": "ipython",
    "version": 3
   },
   "file_extension": ".py",
   "mimetype": "text/x-python",
   "name": "python",
   "nbconvert_exporter": "python",
   "pygments_lexer": "ipython3",
   "version": "3.7.6"
  }
 },
 "nbformat": 4,
 "nbformat_minor": 4
}
